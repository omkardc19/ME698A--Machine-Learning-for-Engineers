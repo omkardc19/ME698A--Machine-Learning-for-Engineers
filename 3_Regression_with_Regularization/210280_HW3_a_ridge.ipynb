{
  "cells": [
    {
      "cell_type": "code",
      "execution_count": 13,
      "metadata": {
        "id": "8LBCFgXl0_sE"
      },
      "outputs": [],
      "source": [
        "# importing necessary libraries\n",
        "import pandas as pd\n",
        "import numpy as np\n",
        "import matplotlib.pyplot as plt\n",
        "from sklearn.linear_model import Ridge\n",
        "from sklearn.linear_model import Lasso\n",
        "from sklearn.preprocessing import PolynomialFeatures\n",
        "from sklearn.pipeline import make_pipeline"
      ]
    },
    {
      "cell_type": "code",
      "execution_count": 14,
      "metadata": {
        "id": "rauHSKNx1USM"
      },
      "outputs": [],
      "source": [
        "# Loading the CSV file\n",
        "data = pd.read_csv('data_hw3.csv')"
      ]
    },
    {
      "cell_type": "code",
      "execution_count": 15,
      "metadata": {
        "id": "DMoNpVxm1X9Q"
      },
      "outputs": [],
      "source": [
        "# Sorting the data by 'Propellant age (Weeks) x' column in ascending order\n",
        "data.sort_values(by='Propellant age (Weeks) x', inplace=True)"
      ]
    },
    {
      "cell_type": "code",
      "execution_count": 16,
      "metadata": {},
      "outputs": [
        {
          "data": {
            "text/html": [
              "<div>\n",
              "<style scoped>\n",
              "    .dataframe tbody tr th:only-of-type {\n",
              "        vertical-align: middle;\n",
              "    }\n",
              "\n",
              "    .dataframe tbody tr th {\n",
              "        vertical-align: top;\n",
              "    }\n",
              "\n",
              "    .dataframe thead th {\n",
              "        text-align: right;\n",
              "    }\n",
              "</style>\n",
              "<table border=\"1\" class=\"dataframe\">\n",
              "  <thead>\n",
              "    <tr style=\"text-align: right;\">\n",
              "      <th></th>\n",
              "      <th>Test</th>\n",
              "      <th>Propellant age (Weeks) x</th>\n",
              "      <th>Shear strength (MPa) y</th>\n",
              "    </tr>\n",
              "  </thead>\n",
              "  <tbody>\n",
              "    <tr>\n",
              "      <th>7</th>\n",
              "      <td>8</td>\n",
              "      <td>2.50</td>\n",
              "      <td>17.78</td>\n",
              "    </tr>\n",
              "    <tr>\n",
              "      <th>4</th>\n",
              "      <td>5</td>\n",
              "      <td>5.50</td>\n",
              "      <td>15.22</td>\n",
              "    </tr>\n",
              "    <tr>\n",
              "      <th>8</th>\n",
              "      <td>9</td>\n",
              "      <td>7.50</td>\n",
              "      <td>16.26</td>\n",
              "    </tr>\n",
              "    <tr>\n",
              "      <th>2</th>\n",
              "      <td>3</td>\n",
              "      <td>8.00</td>\n",
              "      <td>15.97</td>\n",
              "    </tr>\n",
              "    <tr>\n",
              "      <th>9</th>\n",
              "      <td>10</td>\n",
              "      <td>11.00</td>\n",
              "      <td>15.56</td>\n",
              "    </tr>\n",
              "    <tr>\n",
              "      <th>0</th>\n",
              "      <td>1</td>\n",
              "      <td>15.50</td>\n",
              "      <td>14.88</td>\n",
              "    </tr>\n",
              "    <tr>\n",
              "      <th>3</th>\n",
              "      <td>4</td>\n",
              "      <td>17.00</td>\n",
              "      <td>14.21</td>\n",
              "    </tr>\n",
              "    <tr>\n",
              "      <th>5</th>\n",
              "      <td>6</td>\n",
              "      <td>19.00</td>\n",
              "      <td>11.78</td>\n",
              "    </tr>\n",
              "    <tr>\n",
              "      <th>1</th>\n",
              "      <td>2</td>\n",
              "      <td>23.75</td>\n",
              "      <td>11.57</td>\n",
              "    </tr>\n",
              "    <tr>\n",
              "      <th>6</th>\n",
              "      <td>7</td>\n",
              "      <td>24.00</td>\n",
              "      <td>12.31</td>\n",
              "    </tr>\n",
              "  </tbody>\n",
              "</table>\n",
              "</div>"
            ],
            "text/plain": [
              "   Test  Propellant age (Weeks) x  Shear strength (MPa) y\n",
              "7     8                      2.50                   17.78\n",
              "4     5                      5.50                   15.22\n",
              "8     9                      7.50                   16.26\n",
              "2     3                      8.00                   15.97\n",
              "9    10                     11.00                   15.56\n",
              "0     1                     15.50                   14.88\n",
              "3     4                     17.00                   14.21\n",
              "5     6                     19.00                   11.78\n",
              "1     2                     23.75                   11.57\n",
              "6     7                     24.00                   12.31"
            ]
          },
          "execution_count": 16,
          "metadata": {},
          "output_type": "execute_result"
        }
      ],
      "source": [
        "data"
      ]
    },
    {
      "cell_type": "code",
      "execution_count": 17,
      "metadata": {
        "id": "S8yTizNz1aSG"
      },
      "outputs": [],
      "source": [
        "# Extracting the features (x) and target (y) from the dataset\n",
        "x = data['Propellant age (Weeks) x'].values.reshape(-1, 1)\n",
        "y = data['Shear strength (MPa) y'].values"
      ]
    },
    {
      "cell_type": "code",
      "execution_count": 18,
      "metadata": {},
      "outputs": [
        {
          "data": {
            "text/plain": [
              "array([[ 2.5 ],\n",
              "       [ 5.5 ],\n",
              "       [ 7.5 ],\n",
              "       [ 8.  ],\n",
              "       [11.  ],\n",
              "       [15.5 ],\n",
              "       [17.  ],\n",
              "       [19.  ],\n",
              "       [23.75],\n",
              "       [24.  ]])"
            ]
          },
          "execution_count": 18,
          "metadata": {},
          "output_type": "execute_result"
        }
      ],
      "source": [
        "x"
      ]
    },
    {
      "cell_type": "code",
      "execution_count": 19,
      "metadata": {},
      "outputs": [
        {
          "data": {
            "text/plain": [
              "array([17.78, 15.22, 16.26, 15.97, 15.56, 14.88, 14.21, 11.78, 11.57,\n",
              "       12.31])"
            ]
          },
          "execution_count": 19,
          "metadata": {},
          "output_type": "execute_result"
        }
      ],
      "source": [
        "y"
      ]
    },
    {
      "cell_type": "code",
      "execution_count": 20,
      "metadata": {
        "id": "bYE4n2XR1gRB"
      },
      "outputs": [],
      "source": [
        "# Creating a DataFrame to store the results\n",
        "results_ridge = pd.DataFrame()"
      ]
    },
    {
      "cell_type": "code",
      "execution_count": 21,
      "metadata": {
        "id": "CVA_dirD1h9O"
      },
      "outputs": [
        {
          "name": "stdout",
          "output_type": "stream",
          "text": [
            "[17.16233454 16.51492919 16.06431593 15.9492864  15.23914908 14.1097854\n",
            " 13.71622213 13.17816431 11.83932717 11.76648585]\n",
            "[17.16206494 16.51484935 16.0643322  15.9493229  15.23927499 14.1099428\n",
            " 13.71636265 13.17826105 11.83922243 11.7663667 ]\n",
            "[17.16233184 16.51492839 16.06431609 15.94928677 15.23915034 14.10978698\n",
            " 13.71622353 13.17816527 11.83932613 11.76648466]\n"
          ]
        }
      ],
      "source": [
        "# Ridge regularization with different lambdas\n",
        "for alpha in [0, 1e-2, 1e-4]:\n",
        "    # Creating a Polynomial Regression model with Ridge regularization\n",
        "    model = make_pipeline(PolynomialFeatures(degree=2), Ridge(alpha=alpha))\n",
        "\n",
        "    # Fitting the model\n",
        "    model.fit(x, y)\n",
        "\n",
        "    # Predicting using the model\n",
        "    y_pred = model.predict(x)\n",
        "    print(y_pred)\n",
        "    # Storing the results in the DataFrame\n",
        "    results_ridge[f'Lambda={alpha}'] = y_pred"
      ]
    },
    {
      "cell_type": "code",
      "execution_count": 22,
      "metadata": {},
      "outputs": [
        {
          "data": {
            "text/html": [
              "<div>\n",
              "<style scoped>\n",
              "    .dataframe tbody tr th:only-of-type {\n",
              "        vertical-align: middle;\n",
              "    }\n",
              "\n",
              "    .dataframe tbody tr th {\n",
              "        vertical-align: top;\n",
              "    }\n",
              "\n",
              "    .dataframe thead th {\n",
              "        text-align: right;\n",
              "    }\n",
              "</style>\n",
              "<table border=\"1\" class=\"dataframe\">\n",
              "  <thead>\n",
              "    <tr style=\"text-align: right;\">\n",
              "      <th></th>\n",
              "      <th>Lambda=0</th>\n",
              "      <th>Lambda=0.01</th>\n",
              "      <th>Lambda=0.0001</th>\n",
              "    </tr>\n",
              "  </thead>\n",
              "  <tbody>\n",
              "    <tr>\n",
              "      <th>0</th>\n",
              "      <td>17.162335</td>\n",
              "      <td>17.162065</td>\n",
              "      <td>17.162332</td>\n",
              "    </tr>\n",
              "    <tr>\n",
              "      <th>1</th>\n",
              "      <td>16.514929</td>\n",
              "      <td>16.514849</td>\n",
              "      <td>16.514928</td>\n",
              "    </tr>\n",
              "    <tr>\n",
              "      <th>2</th>\n",
              "      <td>16.064316</td>\n",
              "      <td>16.064332</td>\n",
              "      <td>16.064316</td>\n",
              "    </tr>\n",
              "    <tr>\n",
              "      <th>3</th>\n",
              "      <td>15.949286</td>\n",
              "      <td>15.949323</td>\n",
              "      <td>15.949287</td>\n",
              "    </tr>\n",
              "    <tr>\n",
              "      <th>4</th>\n",
              "      <td>15.239149</td>\n",
              "      <td>15.239275</td>\n",
              "      <td>15.239150</td>\n",
              "    </tr>\n",
              "    <tr>\n",
              "      <th>5</th>\n",
              "      <td>14.109785</td>\n",
              "      <td>14.109943</td>\n",
              "      <td>14.109787</td>\n",
              "    </tr>\n",
              "    <tr>\n",
              "      <th>6</th>\n",
              "      <td>13.716222</td>\n",
              "      <td>13.716363</td>\n",
              "      <td>13.716224</td>\n",
              "    </tr>\n",
              "    <tr>\n",
              "      <th>7</th>\n",
              "      <td>13.178164</td>\n",
              "      <td>13.178261</td>\n",
              "      <td>13.178165</td>\n",
              "    </tr>\n",
              "    <tr>\n",
              "      <th>8</th>\n",
              "      <td>11.839327</td>\n",
              "      <td>11.839222</td>\n",
              "      <td>11.839326</td>\n",
              "    </tr>\n",
              "    <tr>\n",
              "      <th>9</th>\n",
              "      <td>11.766486</td>\n",
              "      <td>11.766367</td>\n",
              "      <td>11.766485</td>\n",
              "    </tr>\n",
              "  </tbody>\n",
              "</table>\n",
              "</div>"
            ],
            "text/plain": [
              "    Lambda=0  Lambda=0.01  Lambda=0.0001\n",
              "0  17.162335    17.162065      17.162332\n",
              "1  16.514929    16.514849      16.514928\n",
              "2  16.064316    16.064332      16.064316\n",
              "3  15.949286    15.949323      15.949287\n",
              "4  15.239149    15.239275      15.239150\n",
              "5  14.109785    14.109943      14.109787\n",
              "6  13.716222    13.716363      13.716224\n",
              "7  13.178164    13.178261      13.178165\n",
              "8  11.839327    11.839222      11.839326\n",
              "9  11.766486    11.766367      11.766485"
            ]
          },
          "execution_count": 22,
          "metadata": {},
          "output_type": "execute_result"
        }
      ],
      "source": [
        "results_ridge"
      ]
    },
    {
      "cell_type": "code",
      "execution_count": 23,
      "metadata": {
        "colab": {
          "base_uri": "https://localhost:8080/",
          "height": 472
        },
        "id": "8iq6cojz1yG5",
        "outputId": "127cae92-e308-4b2b-d761-63b44225d010"
      },
      "outputs": [
        {
          "data": {
            "image/png": "[encoded data removed]",
            "text/plain": [
              "<Figure size 640x480 with 1 Axes>"
            ]
          },
          "metadata": {},
          "output_type": "display_data"
        }
      ],
      "source": [
        "# Plotting the original data points\n",
        "plt.scatter(x, y, label='Data', color='b')\n",
        "\n",
        "# Plotting the regression lines for different lambdas\n",
        "for column in results_ridge.columns:\n",
        "    plt.plot(x, results_ridge[column], label=column)\n",
        "\n",
        "plt.xlabel('Propellant age (Weeks) x')\n",
        "plt.ylabel('Shear strength (MPa) y')\n",
        "plt.title('Regression with Ridge Regularization')\n",
        "plt.legend()\n",
        "plt.grid(True)\n",
        "plt.show()"
      ]
    },
    {
      "cell_type": "code",
      "execution_count": null,
      "metadata": {},
      "outputs": [],
      "source": []
    },
    {
      "cell_type": "code",
      "execution_count": 24,
      "metadata": {
        "id": "0AFDs-2N5X7K"
      },
      "outputs": [
        {
          "name": "stdout",
          "output_type": "stream",
          "text": [
            "0.8595812312638439\n",
            "17.9369338469873\n",
            "-0.25292963341961117\n"
          ]
        },
        {
          "data": {
            "image/png": "[encoded data removed]",
            "text/plain": [
              "<Figure size 640x480 with 1 Axes>"
            ]
          },
          "metadata": {},
          "output_type": "display_data"
        }
      ],
      "source": [
        "# Linear regression\n",
        "\n",
        "from scipy import stats\n",
        "\n",
        "x = data['Propellant age (Weeks) x']\n",
        "y = data['Shear strength (MPa) y']\n",
        "\n",
        "slope, intercept, r, p, std_err = stats.linregress(x, y)\n",
        "\n",
        "def myfunc(x):\n",
        "  return slope * x + intercept\n",
        "\n",
        "mymodel = list(map(myfunc, x))\n",
        "print(r*r)\n",
        "print(intercept)\n",
        "print(slope)\n",
        "plt.scatter(x, y,label=\"Data\")\n",
        "plt.plot(x, mymodel, c='r',label=\"Linear Hypothesis\")\n",
        "plt.title(\"Hardness vs Temperature\")\n",
        "plt.xlabel(f\"Temperature({chr(176)}C)\")\n",
        "plt.ylabel(\"Hardness\")\n",
        "plt.legend()\n",
        "plt.grid()\n",
        "plt.show()"
      ]
    },
    {
      "cell_type": "code",
      "execution_count": null,
      "metadata": {},
      "outputs": [],
      "source": []
    }
  ],
  "metadata": {
    "colab": {
      "provenance": []
    },
    "kernelspec": {
      "display_name": "Python 3",
      "name": "python3"
    },
    "language_info": {
      "codemirror_mode": {
        "name": "ipython",
        "version": 3
      },
      "file_extension": ".py",
      "mimetype": "text/x-python",
      "name": "python",
      "nbconvert_exporter": "python",
      "pygments_lexer": "ipython3",
      "version": "3.11.1"
    }
  },
  "nbformat": 4,
  "nbformat_minor": 0
}
