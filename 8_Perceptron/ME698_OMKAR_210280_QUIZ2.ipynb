{
 "cells": [
  {
   "cell_type": "code",
   "execution_count": 1,
   "metadata": {},
   "outputs": [],
   "source": [
    "import numpy as np\n",
    "import matplotlib.pyplot as plt"
   ]
  },
  {
   "cell_type": "code",
   "execution_count": 2,
   "metadata": {},
   "outputs": [],
   "source": [
    "def activation(z):\n",
    "    return 1 if z>=0 else 0 "
   ]
  },
  {
   "cell_type": "code",
   "execution_count": 3,
   "metadata": {},
   "outputs": [],
   "source": [
    "x1= np.array([15.5,23.75,8,17,5.5,19,24,2.5,7.5,11])\n",
    "x2= np.array([40,23.75,17,21,10,12,20,12,15,26])\n",
    "y_dash= np.ones(x1.size,dtype=np.int8)\n",
    "y=np.array([1,1,0,1,0,0,1,0,0,1],dtype=np.int8)\n",
    "# if y==5 make y=1\n",
    "# else 0\n",
    "y_=np.array([5,5,2,5,2,2,5,2,2,5],dtype=np.int8)"
   ]
  },
  {
   "cell_type": "code",
   "execution_count": 4,
   "metadata": {},
   "outputs": [],
   "source": [
    "for i in y_:\n",
    "    if y_[i]==5:\n",
    "        y[i]=1\n",
    "    else:\n",
    "        y[i]=0"
   ]
  },
  {
   "cell_type": "code",
   "execution_count": 5,
   "metadata": {},
   "outputs": [
    {
     "data": {
      "text/plain": [
       "array([1, 1, 0, 1, 0, 0, 1, 0, 0, 1], dtype=int8)"
      ]
     },
     "execution_count": 5,
     "metadata": {},
     "output_type": "execute_result"
    }
   ],
   "source": [
    "y"
   ]
  },
  {
   "cell_type": "code",
   "execution_count": 6,
   "metadata": {},
   "outputs": [],
   "source": [
    "x1_min= x1.min()   #normalizing between 0 and 1\n",
    "# y_min= y.min()\n",
    "x2_min= x2.min()\n",
    "\n",
    "x1_max= x1.max()\n",
    "x2_max= x2.max()\n",
    "\n",
    "x1_=x1-x1_min\n",
    "x1_=x1_/(x1_max-x1_min)\n",
    "# y_max= y.max()\n",
    "\n",
    "# X=X-x_min\n",
    "# X=X/(x_max-x_min)\n",
    "\n",
    "x2_=x2-x2_min\n",
    "x2_=x2_/(x2_max-x2_min)"
   ]
  },
  {
   "cell_type": "code",
   "execution_count": 7,
   "metadata": {},
   "outputs": [
    {
     "data": {
      "text/plain": [
       "array([15.5 , 23.75,  8.  , 17.  ,  5.5 , 19.  , 24.  ,  2.5 ,  7.5 ,\n",
       "       11.  ])"
      ]
     },
     "execution_count": 7,
     "metadata": {},
     "output_type": "execute_result"
    }
   ],
   "source": [
    "x1"
   ]
  },
  {
   "cell_type": "code",
   "execution_count": 8,
   "metadata": {},
   "outputs": [
    {
     "data": {
      "text/plain": [
       "array([40.  , 23.75, 17.  , 21.  , 10.  , 12.  , 20.  , 12.  , 15.  ,\n",
       "       26.  ])"
      ]
     },
     "execution_count": 8,
     "metadata": {},
     "output_type": "execute_result"
    }
   ],
   "source": [
    "x2"
   ]
  },
  {
   "cell_type": "code",
   "execution_count": 9,
   "metadata": {},
   "outputs": [],
   "source": [
    "maxit=1000\n",
    "learning_rate=.001\n",
    "n=x1.size\n",
    "#epsilon=1.e-7"
   ]
  },
  {
   "cell_type": "code",
   "execution_count": 10,
   "metadata": {},
   "outputs": [
    {
     "data": {
      "text/plain": [
       "array([0.60465116, 0.98837209, 0.25581395, 0.6744186 , 0.13953488,\n",
       "       0.76744186, 1.        , 0.        , 0.23255814, 0.39534884])"
      ]
     },
     "execution_count": 10,
     "metadata": {},
     "output_type": "execute_result"
    }
   ],
   "source": [
    "x1_"
   ]
  },
  {
   "cell_type": "code",
   "execution_count": 11,
   "metadata": {},
   "outputs": [
    {
     "data": {
      "text/plain": [
       "array([1.        , 0.45833333, 0.23333333, 0.36666667, 0.        ,\n",
       "       0.06666667, 0.33333333, 0.06666667, 0.16666667, 0.53333333])"
      ]
     },
     "execution_count": 11,
     "metadata": {},
     "output_type": "execute_result"
    }
   ],
   "source": [
    "x2_"
   ]
  },
  {
   "cell_type": "code",
   "execution_count": 12,
   "metadata": {},
   "outputs": [
    {
     "name": "stdout",
     "output_type": "stream",
     "text": [
      "0 [-0.001   0.0285  0.013 ] 3.1622776601683795\n",
      "1 [-0.003   0.0235  0.005 ] 2.6457513110645907\n",
      "2 [-0.004  0.024  0.007] 2.449489742783178\n",
      "3 [-0.005   0.0295  0.012 ] 2.23606797749979\n",
      "4 [-0.007   0.0245  0.004 ] 2.23606797749979\n",
      "5 [-0.009  0.034  0.005] 2.449489742783178\n",
      "6 [-0.01    0.0365  0.012 ] 2.8284271247461903\n",
      "7 [-0.012   0.0315  0.004 ] 2.23606797749979\n",
      "8 [-0.013  0.032  0.006] 2.449489742783178\n",
      "9 [-0.014   0.0345  0.013 ] 2.23606797749979\n"
     ]
    },
    {
     "name": "stdout",
     "output_type": "stream",
     "text": [
      "10 [-0.016   0.0295  0.005 ] 2.23606797749979\n",
      "11 [-0.017  0.035  0.01 ] 2.449489742783178\n",
      "12 [-0.019  0.03   0.002] 2.23606797749979\n",
      "13 [-0.02    0.0305  0.004 ] 2.449489742783178\n",
      "14 [-0.021  0.031  0.006] 2.23606797749979\n",
      "15 [-0.022   0.0365  0.011 ] 2.23606797749979\n",
      "16 [-0.024   0.0315  0.003 ] 2.23606797749979\n",
      "17 [-0.025  0.032  0.005] 2.449489742783178\n",
      "18 [-0.026   0.0325  0.007 ] 2.23606797749979\n",
      "19 [-0.027  0.035  0.014] 2.23606797749979\n",
      "20 [-0.029  0.03   0.006] 2.23606797749979\n",
      "21 [-0.03    0.0355  0.011 ] 2.449489742783178\n",
      "22 [-0.032   0.0305  0.003 ] 2.23606797749979\n",
      "23 [-0.033  0.031  0.005] 2.449489742783178\n",
      "24 [-0.034   0.0315  0.007 ] 2.23606797749979\n",
      "25 [-0.035  0.037  0.012] 2.23606797749979\n",
      "26 [-0.037  0.032  0.004] 2.23606797749979\n",
      "27 [-0.038   0.0325  0.006 ] 2.449489742783178\n",
      "28 [-0.039  0.033  0.008] 2.23606797749979\n",
      "29 [-0.04    0.0355  0.015 ] 2.23606797749979\n",
      "30 [-0.042   0.0305  0.007 ] 2.23606797749979\n",
      "31 [-0.043  0.036  0.012] 2.449489742783178\n",
      "32 [-0.045  0.031  0.004] 2.23606797749979\n",
      "33 [-0.046   0.0315  0.006 ] 2.449489742783178\n",
      "34 [-0.047  0.032  0.008] 2.23606797749979\n",
      "35 [-0.048   0.0375  0.013 ] 2.23606797749979\n",
      "36 [-0.05    0.0325  0.005 ] 2.23606797749979\n",
      "37 [-0.051  0.033  0.007] 2.449489742783178\n",
      "38 [-0.052   0.0335  0.009 ] 2.23606797749979\n",
      "39 [-0.053  0.036  0.016] 2.23606797749979\n",
      "40 [-0.055  0.031  0.008] 2.23606797749979\n",
      "41 [-0.056   0.0365  0.013 ] 2.449489742783178\n",
      "42 [-0.058   0.0315  0.005 ] 2.23606797749979\n",
      "43 [-0.059  0.032  0.007] 2.449489742783178\n",
      "44 [-0.06    0.0325  0.009 ] 2.23606797749979\n",
      "45 [-0.061  0.038  0.014] 2.23606797749979\n",
      "46 [-0.063  0.033  0.006] 2.23606797749979\n",
      "47 [-0.064   0.0335  0.008 ] 2.449489742783178\n",
      "48 [-0.065  0.034  0.01 ] 2.23606797749979\n",
      "49 [-0.066   0.0365  0.017 ] 2.23606797749979\n",
      "50 [-0.068   0.0315  0.009 ] 2.23606797749979\n",
      "51 [-0.069  0.037  0.014] 2.449489742783178\n",
      "52 [-0.071  0.032  0.006] 2.23606797749979\n",
      "53 [-0.072   0.0325  0.008 ] 2.449489742783178\n",
      "54 [-0.073  0.033  0.01 ] 2.23606797749979\n",
      "55 [-0.074   0.0385  0.015 ] 2.23606797749979\n",
      "56 [-0.076   0.0335  0.007 ] 2.23606797749979\n",
      "57 [-0.077  0.034  0.009] 2.449489742783178\n",
      "58 [-0.078   0.0345  0.011 ] 2.23606797749979\n",
      "59 [-0.079  0.037  0.018] 2.23606797749979\n",
      "60 [-0.081  0.032  0.01 ] 2.23606797749979\n",
      "61 [-0.082   0.0375  0.015 ] 2.449489742783178\n",
      "62 [-0.084   0.0325  0.007 ] 2.23606797749979\n",
      "63 [-0.085  0.033  0.009] 2.449489742783178\n",
      "64 [-0.086   0.0335  0.011 ] 2.23606797749979\n",
      "65 [-0.087  0.039  0.016] 2.23606797749979\n",
      "66 [-0.089  0.034  0.008] 2.23606797749979\n",
      "67 [-0.09    0.0345  0.01  ] 2.449489742783178\n",
      "68 [-0.091  0.035  0.012] 2.23606797749979\n",
      "69 [-0.093  0.03   0.004] 2.23606797749979\n",
      "70 [-0.094   0.0305  0.006 ] 2.449489742783178\n",
      "71 [-0.095  0.031  0.008] 2.23606797749979\n",
      "72 [-0.096   0.0315  0.01  ] 2.23606797749979\n",
      "73 [-0.097  0.032  0.012] 2.23606797749979\n",
      "74 [-0.098   0.0375  0.017 ] 2.23606797749979\n",
      "75 [-0.1     0.0325  0.009 ] 2.23606797749979\n",
      "76 [-0.101  0.033  0.011] 2.449489742783178\n",
      "77 [-0.102   0.0335  0.013 ] 2.23606797749979\n",
      "78 [-0.103  0.039  0.018] 2.23606797749979\n",
      "79 [-0.105  0.034  0.01 ] 2.23606797749979\n",
      "80 [-0.106   0.0345  0.012 ] 2.449489742783178\n",
      "81 [-0.107  0.04   0.017] 2.23606797749979\n",
      "82 [-0.109  0.035  0.009] 2.23606797749979\n",
      "83 [-0.11    0.0355  0.011 ] 2.449489742783178\n",
      "84 [-0.111  0.036  0.013] 2.23606797749979\n",
      "85 [-0.113  0.031  0.005] 2.23606797749979\n",
      "86 [-0.114   0.0315  0.007 ] 2.449489742783178\n",
      "87 [-0.115  0.032  0.009] 2.23606797749979\n",
      "88 [-0.116   0.0325  0.011 ] 2.23606797749979\n",
      "89 [-0.117  0.033  0.013] 2.23606797749979\n",
      "90 [-0.118   0.0385  0.018 ] 2.23606797749979\n",
      "91 [-0.12    0.0335  0.01  ] 2.23606797749979\n",
      "92 [-0.121  0.034  0.012] 2.449489742783178\n",
      "93 [-0.122   0.0345  0.014 ] 2.23606797749979\n",
      "94 [-0.124  0.029 -0.007] 2.23606797749979\n",
      "95 [-0.124   0.0375  0.012 ] 2.0\n",
      "96 [-0.125  0.038  0.014] 2.0\n",
      "97 [-0.127  0.033  0.006] 2.23606797749979\n",
      "98 [-0.128   0.0335  0.008 ] 2.449489742783178\n",
      "99 [-0.129  0.034  0.01 ] 2.23606797749979\n",
      "100 [-0.13    0.0345  0.012 ] 2.23606797749979\n",
      "101 [-0.131  0.035  0.014] 2.23606797749979\n",
      "102 [-0.133   0.0295 -0.007 ] 2.23606797749979\n",
      "103 [-0.133  0.038  0.012] 2.0\n",
      "104 [-0.134   0.0385  0.014 ] 2.0\n",
      "105 [-0.136   0.0335  0.006 ] 2.23606797749979\n",
      "106 [-0.137  0.034  0.008] 2.449489742783178\n",
      "107 [-0.138   0.0345  0.01  ] 2.23606797749979\n",
      "108 [-0.139  0.035  0.012] 2.23606797749979\n",
      "109 [-0.14    0.0355  0.014 ] 2.23606797749979\n",
      "110 [-0.142  0.03  -0.007] 2.23606797749979\n",
      "111 [-0.142   0.0385  0.012 ] 2.0\n",
      "112 [-0.143  0.039  0.014] 2.0\n",
      "113 [-0.145  0.037  0.004] 2.23606797749979\n",
      "114 [-0.146   0.0375  0.006 ] 2.449489742783178\n",
      "115 [-0.147  0.038  0.008] 2.23606797749979\n",
      "116 [-0.148   0.0385  0.01  ] 2.23606797749979\n",
      "117 [-0.149  0.039  0.012] 2.23606797749979\n",
      "118 [-0.15    0.0395  0.014 ] 2.23606797749979\n",
      "119 [-0.152  0.034 -0.007] 2.23606797749979\n",
      "120 [-0.153  0.046  0.006] 2.0\n",
      "121 [-0.154   0.0465  0.008 ] 2.6457513110645907\n",
      "122 [-0.155  0.047  0.01 ] 2.23606797749979\n",
      "123 [-0.156   0.0475  0.012 ] 2.23606797749979\n",
      "124 [-0.158   0.0425  0.004 ] 2.23606797749979\n",
      "125 [-0.159  0.043  0.006] 2.449489742783178\n",
      "126 [-0.16    0.0435  0.008 ] 2.23606797749979\n",
      "127 [-0.161  0.044  0.01 ] 2.23606797749979\n",
      "128 [-0.162   0.0445  0.012 ] 2.23606797749979\n",
      "129 [-0.163  0.045  0.014] 2.23606797749979\n",
      "130 [-0.165  0.04   0.006] 2.23606797749979\n",
      "131 [-0.166   0.0405  0.008 ] 2.449489742783178\n",
      "132 [-0.167  0.041  0.01 ] 2.23606797749979\n",
      "133 [-0.168   0.0415  0.012 ] 2.23606797749979\n",
      "134 [-0.169  0.042  0.014] 2.23606797749979\n",
      "135 [-0.17    0.0425  0.016 ] 2.23606797749979\n",
      "136 [-0.172   0.0375  0.008 ] 2.23606797749979\n",
      "137 [-0.173  0.038  0.01 ] 2.449489742783178\n",
      "138 [-0.174   0.0385  0.012 ] 2.23606797749979\n",
      "139 [-0.175  0.039  0.014] 2.23606797749979\n",
      "140 [-0.176   0.0395  0.016 ] 2.23606797749979\n",
      "141 [-0.177  0.04   0.018] 2.23606797749979\n",
      "142 [-0.179  0.035  0.01 ] 2.23606797749979\n",
      "143 [-0.18    0.0355  0.012 ] 2.449489742783178\n",
      "144 [-0.181  0.036  0.014] 2.23606797749979\n",
      "145 [-0.182   0.0365  0.016 ] 2.23606797749979\n",
      "146 [-0.183  0.037  0.018] 2.23606797749979\n",
      "147 [-0.185  0.035  0.008] 2.23606797749979\n",
      "148 [-0.186   0.0355  0.01  ] 2.449489742783178\n",
      "149 [-0.187  0.036  0.012] 2.23606797749979\n",
      "150 [-0.188   0.0365  0.014 ] 2.23606797749979\n",
      "151 [-0.189  0.037  0.016] 2.23606797749979\n",
      "152 [-0.19    0.0375  0.018 ] 2.23606797749979\n",
      "153 [-0.192   0.0355  0.008 ] 2.23606797749979\n",
      "154 [-0.193  0.036  0.01 ] 2.449489742783178\n",
      "155 [-0.194   0.0365  0.012 ] 2.23606797749979\n",
      "156 [-0.195  0.037  0.014] 2.23606797749979\n",
      "157 [-0.196   0.0375  0.016 ] 2.23606797749979\n",
      "158 [-0.197  0.038  0.018] 2.23606797749979\n",
      "159 [-0.198   0.0385  0.02  ] 2.23606797749979\n",
      "160 [-0.2     0.0365  0.01  ] 2.23606797749979\n",
      "161 [-0.201  0.037  0.012] 2.449489742783178\n",
      "162 [-0.202   0.0375  0.014 ] 2.23606797749979\n",
      "163 [-0.203  0.038  0.016] 2.23606797749979\n",
      "164 [-0.204   0.0385  0.018 ] 2.23606797749979\n",
      "165 [-0.205  0.039  0.02 ] 2.23606797749979\n",
      "166 [-0.207  0.037  0.01 ] 2.23606797749979\n",
      "167 [-0.208   0.0375  0.012 ] 2.449489742783178\n",
      "168 [-0.209  0.038  0.014] 2.23606797749979\n",
      "169 [-0.21    0.0385  0.016 ] 2.23606797749979\n",
      "170 [-0.211  0.039  0.018] 2.23606797749979\n",
      "171 [-0.212   0.0395  0.02  ] 2.23606797749979\n",
      "172 [-0.214   0.0375  0.01  ] 2.23606797749979\n",
      "173 [-0.215  0.038  0.012] 2.449489742783178\n",
      "174 [-0.216   0.0385  0.014 ] 2.23606797749979\n",
      "175 [-0.217  0.039  0.016] 2.23606797749979\n",
      "176 [-0.218   0.0395  0.018 ] 2.23606797749979\n",
      "177 [-0.219  0.04   0.02 ] 2.23606797749979\n",
      "178 [-0.221  0.038  0.01 ] 2.23606797749979\n",
      "179 [-0.222   0.0385  0.012 ] 2.449489742783178\n",
      "180 [-0.223  0.039  0.014] 2.23606797749979\n",
      "181 [-0.224   0.0395  0.016 ] 2.23606797749979\n",
      "182 [-0.225  0.04   0.018] 2.23606797749979\n",
      "183 [-0.226   0.0405  0.02  ] 2.23606797749979\n",
      "184 [-0.227  0.041  0.022] 2.23606797749979\n",
      "185 [-0.229  0.036  0.014] 2.23606797749979\n",
      "186 [-0.23    0.0365  0.016 ] 2.449489742783178\n",
      "187 [-0.231  0.037  0.018] 2.23606797749979\n",
      "188 [-0.232   0.0375  0.02  ] 2.23606797749979\n",
      "189 [-0.233  0.038  0.022] 2.23606797749979\n",
      "190 [-0.235  0.036  0.012] 2.23606797749979\n",
      "191 [-0.236   0.0365  0.014 ] 2.449489742783178\n",
      "192 [-0.237  0.037  0.016] 2.23606797749979\n",
      "193 [-0.238   0.0375  0.018 ] 2.23606797749979\n",
      "194 [-0.239  0.038  0.02 ] 2.23606797749979\n",
      "195 [-0.24    0.0385  0.022 ] 2.23606797749979\n",
      "196 [-0.242   0.0365  0.012 ] 2.23606797749979\n",
      "197 [-0.243  0.037  0.014] 2.449489742783178\n",
      "198 [-0.244   0.0375  0.016 ] 2.23606797749979\n",
      "199 [-0.245  0.038  0.018] 2.23606797749979\n",
      "200 [-0.246   0.0385  0.02  ] 2.23606797749979\n",
      "201 [-0.247  0.039  0.022] 2.23606797749979\n",
      "202 [-0.249   0.0285 -0.002 ] 2.23606797749979\n",
      "203 [-0.249  0.037  0.017] 2.0\n",
      "204 [-0.25    0.0375  0.019 ] 2.0\n",
      "205 [-0.251  0.038  0.021] 2.23606797749979\n",
      "206 [-0.252   0.0385  0.023 ] 2.23606797749979\n",
      "207 [-0.254   0.0365  0.013 ] 2.23606797749979\n",
      "208 [-0.255  0.037  0.015] 2.449489742783178\n",
      "209 [-0.256   0.0375  0.017 ] 2.23606797749979\n",
      "210 [-0.257  0.038  0.019] 2.23606797749979\n",
      "211 [-0.258   0.0385  0.021 ] 2.23606797749979\n",
      "212 [-0.259  0.039  0.023] 2.23606797749979\n",
      "213 [-0.261   0.0285 -0.001 ] 2.23606797749979\n",
      "214 [-0.261  0.037  0.018] 2.0\n",
      "215 [-0.262   0.0375  0.02  ] 2.0\n",
      "216 [-0.263  0.038  0.022] 2.23606797749979\n",
      "217 [-0.264   0.0385  0.024 ] 2.23606797749979\n",
      "218 [-0.266   0.0365  0.014 ] 2.23606797749979\n",
      "219 [-0.267  0.037  0.016] 2.449489742783178\n",
      "220 [-0.268   0.0375  0.018 ] 2.23606797749979\n",
      "221 [-0.269  0.038  0.02 ] 2.23606797749979\n",
      "222 [-0.27    0.0385  0.022 ] 2.23606797749979\n",
      "223 [-0.271  0.039  0.024] 2.23606797749979\n",
      "224 [-2.73000000e-01  2.85000000e-02  3.78169718e-16] 2.23606797749979\n",
      "225 [-0.273  0.037  0.019] 2.0\n",
      "226 [-0.274   0.0375  0.021 ] 2.0\n",
      "227 [-0.275  0.038  0.023] 2.23606797749979\n",
      "228 [-0.276   0.0385  0.025 ] 2.23606797749979\n",
      "229 [-0.278   0.0365  0.015 ] 2.23606797749979\n",
      "230 [-0.279  0.037  0.017] 2.449489742783178\n",
      "231 [-0.28    0.0375  0.019 ] 2.23606797749979\n",
      "232 [-0.281  0.038  0.021] 2.23606797749979\n",
      "233 [-0.282   0.0385  0.023 ] 2.23606797749979\n",
      "234 [-0.283  0.039  0.025] 2.23606797749979\n",
      "235 [-0.285   0.0285  0.001 ] 2.23606797749979\n",
      "236 [-0.285  0.037  0.02 ] 2.0\n",
      "237 [-0.286   0.0375  0.022 ] 2.0\n",
      "238 [-0.287  0.038  0.024] 2.23606797749979\n",
      "239 [-2.89000000e-01  2.75000000e-02  4.02455846e-16] 2.23606797749979\n",
      "240 [-0.289  0.036  0.019] 2.0\n",
      "241 [-0.29    0.0365  0.021 ] 2.0\n",
      "242 [-0.291  0.037  0.023] 2.23606797749979\n",
      "243 [-0.292   0.0375  0.025 ] 2.23606797749979\n",
      "244 [-0.294  0.027  0.001] 2.23606797749979\n",
      "245 [-0.294   0.0355  0.02  ] 2.0\n",
      "246 [-0.295  0.036  0.022] 2.0\n",
      "247 [-0.296   0.0365  0.024 ] 2.23606797749979\n",
      "248 [-0.297  0.037  0.026] 2.23606797749979\n",
      "249 [-0.299   0.0265  0.002 ] 2.23606797749979\n",
      "250 [-0.299  0.035  0.021] 2.0\n",
      "251 [-0.3     0.0355  0.023 ] 2.0\n",
      "252 [-0.301  0.036  0.025] 2.23606797749979\n",
      "253 [-0.303   0.0255  0.001 ] 2.23606797749979\n",
      "254 [-0.303  0.034  0.02 ] 2.0\n",
      "255 [-0.304   0.0345  0.022 ] 2.0\n",
      "256 [-0.305  0.035  0.024] 2.23606797749979\n",
      "257 [-0.306   0.0355  0.026 ] 2.23606797749979\n",
      "258 [-0.308  0.025  0.002] 2.23606797749979\n",
      "259 [-0.308   0.0335  0.021 ] 2.0\n",
      "260 [-0.309  0.034  0.023] 2.0\n",
      "261 [-0.31    0.0345  0.025 ] 2.23606797749979\n",
      "262 [-0.311  0.035  0.027] 2.23606797749979\n",
      "263 [-0.313   0.0245  0.003 ] 2.23606797749979\n",
      "264 [-0.313  0.033  0.022] 2.0\n",
      "265 [-0.314   0.0335  0.024 ] 2.0\n",
      "266 [-0.315  0.034  0.026] 2.23606797749979\n",
      "267 [-0.316   0.0345  0.028 ] 2.23606797749979\n",
      "268 [-0.318  0.024  0.004] 2.23606797749979\n",
      "269 [-0.318   0.0325  0.023 ] 2.0\n",
      "270 [-0.319  0.033  0.025] 2.0\n",
      "271 [-0.32    0.0335  0.027 ] 2.23606797749979\n",
      "272 [-0.322  0.023  0.003] 2.23606797749979\n",
      "273 [-0.322   0.0315  0.022 ] 2.0\n",
      "274 [-0.323  0.032  0.024] 2.0\n",
      "275 [-0.324   0.0325  0.026 ] 2.23606797749979\n",
      "276 [-0.325  0.033  0.028] 2.23606797749979\n",
      "277 [-0.327   0.0225  0.004 ] 2.23606797749979\n",
      "278 [-0.327  0.031  0.023] 2.0\n",
      "279 [-0.328   0.0315  0.025 ] 2.0\n",
      "280 [-0.329  0.032  0.027] 2.23606797749979\n",
      "281 [-0.33    0.0325  0.029 ] 2.23606797749979\n",
      "282 [-0.332  0.022  0.005] 2.23606797749979\n",
      "283 [-0.332   0.0305  0.024 ] 2.0\n",
      "284 [-0.333  0.031  0.026] 2.0\n",
      "285 [-0.334   0.0315  0.028 ] 2.23606797749979\n",
      "286 [-0.335  0.032  0.03 ] 2.23606797749979\n",
      "287 [-0.337   0.0215  0.006 ] 2.23606797749979\n",
      "288 [-0.337  0.03   0.025] 2.0\n",
      "289 [-0.338   0.0305  0.027 ] 2.0\n",
      "290 [-0.339  0.031  0.029] 2.23606797749979\n",
      "291 [-0.341   0.0205  0.005 ] 2.23606797749979\n",
      "292 [-0.341  0.029  0.024] 2.0\n",
      "293 [-0.342   0.0295  0.026 ] 2.0\n",
      "294 [-0.343  0.03   0.028] 2.23606797749979\n",
      "295 [-0.344   0.0305  0.03  ] 2.23606797749979\n",
      "296 [-0.346  0.02   0.006] 2.23606797749979\n",
      "297 [-0.346   0.0285  0.025 ] 2.0\n",
      "298 [-0.347  0.029  0.027] 2.0\n",
      "299 [-0.348   0.0295  0.029 ] 2.23606797749979\n",
      "300 [-0.349  0.03   0.031] 2.23606797749979\n",
      "301 [-0.351   0.0195  0.007 ] 2.23606797749979\n",
      "302 [-0.351  0.028  0.026] 2.0\n",
      "303 [-0.352   0.0285  0.028 ] 2.0\n",
      "304 [-0.353  0.029  0.03 ] 2.23606797749979\n",
      "305 [-0.355   0.0185  0.006 ] 2.23606797749979\n",
      "306 [-0.355  0.027  0.025] 2.0\n",
      "307 [-0.356   0.0275  0.027 ] 2.0\n",
      "308 [-0.357  0.028  0.029] 2.23606797749979\n",
      "309 [-0.358   0.0285  0.031 ] 2.23606797749979\n",
      "310 [-0.36   0.018  0.007] 2.23606797749979\n",
      "311 [-0.36    0.0265  0.026 ] 2.0\n",
      "312 [-0.361  0.027  0.028] 2.0\n",
      "313 [-0.362   0.0275  0.03  ] 2.23606797749979\n",
      "314 [-0.363  0.028  0.032] 2.23606797749979\n",
      "315 [-0.365   0.0175  0.008 ] 2.23606797749979\n",
      "316 [-0.365  0.026  0.027] 2.0\n",
      "317 [-0.366   0.0265  0.029 ] 2.0\n",
      "318 [-0.367  0.027  0.031] 2.23606797749979\n",
      "319 [-0.368   0.0275  0.033 ] 2.23606797749979\n",
      "320 [-0.37   0.017  0.009] 2.23606797749979\n",
      "321 [-0.37    0.0255  0.028 ] 2.0\n",
      "322 [-0.371  0.026  0.03 ] 2.0\n",
      "323 [-0.372   0.0265  0.032 ] 2.23606797749979\n",
      "324 [-0.374  0.016  0.008] 2.23606797749979\n",
      "325 [-0.374   0.0245  0.027 ] 2.0\n",
      "326 [-0.375  0.025  0.029] 2.0\n",
      "327 [-0.376   0.0255  0.031 ] 2.23606797749979\n",
      "328 [-0.377  0.026  0.033] 2.23606797749979\n",
      "329 [-0.379   0.0155  0.009 ] 2.23606797749979\n",
      "330 [-0.379  0.024  0.028] 2.0\n",
      "331 [-0.38    0.0245  0.03  ] 2.0\n",
      "332 [-0.381  0.025  0.032] 2.23606797749979\n",
      "333 [-0.382   0.0255  0.034 ] 2.23606797749979\n",
      "334 [-0.384  0.015  0.01 ] 2.23606797749979\n",
      "335 [-0.384   0.0235  0.029 ] 2.0\n",
      "336 [-0.385  0.024  0.031] 2.0\n",
      "337 [-0.386   0.0245  0.033 ] 2.23606797749979\n",
      "338 [-0.388  0.014  0.009] 2.23606797749979\n",
      "339 [-0.388  0.014  0.009] 2.0\n"
     ]
    },
    {
     "data": {
      "image/png": "[encoded data removed]",
      "text/plain": [
       "<Figure size 640x480 with 1 Axes>"
      ]
     },
     "metadata": {},
     "output_type": "display_data"
    }
   ],
   "source": [
    "loss_function=np.ones(n,dtype=np.int8)\n",
    "result=np.ones(n,dtype=np.int8)\n",
    "b1=np.linalg.norm(loss_function)\n",
    "w=np.array([0,0,0],dtype=np.float64)\n",
    "for i in range(500):\n",
    "    b=np.linalg.norm(loss_function)\n",
    "    for j in range(n):\n",
    "        z=w[0]+w[1]*x1[j]+w[2]*x2[j]\n",
    "        y_hat=activation(z)\n",
    "        result[j]=y_hat\n",
    "        if y_hat==1:\n",
    "            plt.scatter(x1[j],x2[j],color='red')\n",
    "        else:\n",
    "            plt.scatter(x1[j],x2[j],color='green')\n",
    "        loss_function[j]=y[j]-y_hat\n",
    "        x_in=np.array([1,x1[j],x2[j]])\n",
    "        w +=learning_rate*loss_function[j]*x_in\n",
    "    if b==0:\n",
    "        break\n",
    "    print(i,w,b)\n",
    "    if (i==499):\n",
    "        print('done')\n",
    "x1=x1*(x2_max-x2_min)+x2_min\n",
    "x2=x2*(x2_max-x2_min)+x2_min\n",
    "x_plot=np.linspace(0,50,100)\n",
    "z=np.zeros(x_plot.size)\n",
    "z[:]=(-w[0]-w[1]*x_plot[:])/w[2]\n",
    "plt.plot(x_plot,z,color='blue')\n",
    "plt.show()"
   ]
  },
  {
   "cell_type": "code",
   "execution_count": 13,
   "metadata": {},
   "outputs": [
    {
     "data": {
      "text/plain": [
       "array([1, 1, 0, 1, 0, 0, 1, 0, 0, 1], dtype=int8)"
      ]
     },
     "execution_count": 13,
     "metadata": {},
     "output_type": "execute_result"
    }
   ],
   "source": [
    "result"
   ]
  },
  {
   "cell_type": "code",
   "execution_count": 14,
   "metadata": {},
   "outputs": [],
   "source": [
    "final_pred=np.ones(n,dtype=np.int8)"
   ]
  },
  {
   "cell_type": "code",
   "execution_count": 15,
   "metadata": {},
   "outputs": [],
   "source": [
    "for i in range(n):\n",
    "    if result[i]==1:\n",
    "        final_pred[i]=5\n",
    "    else:\n",
    "        final_pred[i]=2"
   ]
  },
  {
   "cell_type": "code",
   "execution_count": 16,
   "metadata": {},
   "outputs": [
    {
     "data": {
      "text/plain": [
       "array([5, 5, 2, 5, 2, 2, 5, 2, 2, 5], dtype=int8)"
      ]
     },
     "execution_count": 16,
     "metadata": {},
     "output_type": "execute_result"
    }
   ],
   "source": [
    "final_pred    #final classification"
   ]
  },
  {
   "cell_type": "code",
   "execution_count": null,
   "metadata": {},
   "outputs": [],
   "source": []
  }
 ],
 "metadata": {
  "kernelspec": {
   "display_name": "base",
   "language": "python",
   "name": "python3"
  },
  "language_info": {
   "codemirror_mode": {
    "name": "ipython",
    "version": 3
   },
   "file_extension": ".py",
   "mimetype": "text/x-python",
   "name": "python",
   "nbconvert_exporter": "python",
   "pygments_lexer": "ipython3",
   "version": "3.11.4"
  }
 },
 "nbformat": 4,
 "nbformat_minor": 2
}
