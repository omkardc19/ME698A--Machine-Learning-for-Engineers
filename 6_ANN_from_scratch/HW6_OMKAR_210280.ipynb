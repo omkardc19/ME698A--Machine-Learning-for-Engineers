{
  "nbformat": 4,
  "nbformat_minor": 0,
  "metadata": {
    "colab": {
      "provenance": []
    },
    "kernelspec": {
      "name": "python3",
      "display_name": "Python 3"
    },
    "language_info": {
      "name": "python"
    }
  },
  "cells": [
    {
      "cell_type": "code",
      "execution_count": 46,
      "metadata": {
        "id": "Tc4vXIVBBKFA"
      },
      "outputs": [],
      "source": [
        "import numpy as np\n",
        "import matplotlib.pyplot as plt"
      ]
    },
    {
      "cell_type": "code",
      "source": [
        "#random training data generation\n",
        "np.random.seed(42)\n",
        "train_X1 = 2 * np.random.rand(200, 1) - 1.0\n",
        "train_X2 = 2 * np.random.rand(200, 1) - 1.0\n",
        "train_Y = (1 - train_X1) ** 2 + 100 * (train_X2 - train_X1 ** 2) ** 2"
      ],
      "metadata": {
        "id": "7S-nVRcFBOlA"
      },
      "execution_count": 47,
      "outputs": []
    },
    {
      "cell_type": "code",
      "source": [
        "#random test data generation\n",
        "np.random.seed(42)\n",
        "test_X1 = 2 * np.random.rand(100, 1) - 1.0\n",
        "test_X2 = 2 * np.random.rand(100, 1) - 1.0\n",
        "test_Y = (1 - test_X1) ** 2 + 100 * (test_X2 - test_X1 ** 2) ** 2"
      ],
      "metadata": {
        "id": "Z7P7heA3BRM3"
      },
      "execution_count": 48,
      "outputs": []
    },
    {
      "cell_type": "code",
      "source": [
        "def relu(z):\n",
        "    return np.maximum(0,z)"
      ],
      "metadata": {
        "id": "rG3rUJA1BZcx"
      },
      "execution_count": 49,
      "outputs": []
    },
    {
      "cell_type": "code",
      "source": [
        "def relu_derivative(z):\n",
        "    return np.where(z <= 0, 0, 1)\n"
      ],
      "metadata": {
        "id": "pU5VjnKVBhyI"
      },
      "execution_count": 50,
      "outputs": []
    },
    {
      "cell_type": "code",
      "source": [
        "def forward_propagation(X):\n",
        "    u = np.dot(X, weights_input_to_hidden) + biases_hidden\n",
        "    z = relu(u)  # Using the existing relu function\n",
        "    yhat = np.dot(z, weights_hidden_to_output) + biases_output\n",
        "    return z, yhat"
      ],
      "metadata": {
        "id": "MCFrE1MoCEE4"
      },
      "execution_count": 51,
      "outputs": []
    },
    {
      "cell_type": "code",
      "source": [
        "def backpropagation(X, Y, z, yhat):\n",
        "    error = yhat - Y\n",
        "    hidden_gradients = error.dot(weights_hidden_to_output.T) * relu_derivative(z)\n",
        "    hidden_weights_gradient = X.T.dot(hidden_gradients)\n",
        "    hidden_biases_gradient = hidden_gradients.sum(axis=0, keepdims=True)\n",
        "\n",
        "    output_weights_gradient = z.T.dot(error)\n",
        "    output_biases_gradient = error.sum(axis=0, keepdims=True)\n",
        "\n",
        "    return hidden_weights_gradient, hidden_biases_gradient, output_weights_gradient, output_biases_gradient\n"
      ],
      "metadata": {
        "id": "sWw0WFR6Cilj"
      },
      "execution_count": 52,
      "outputs": []
    },
    {
      "cell_type": "code",
      "source": [
        "def update_parameters(derivatives, learning_rate):\n",
        "    global weights_input_to_hidden, biases_hidden, weights_hidden_to_output, biases_output\n",
        "    dwh, dbh, dw_out, db_out = derivatives\n",
        "\n",
        "    weights_input_to_hidden -= learning_rate * dwh\n",
        "    biases_hidden -= learning_rate * dbh\n",
        "\n",
        "    weights_hidden_to_output -= learning_rate * dw_out\n",
        "    biases_output -= learning_rate * db_out\n"
      ],
      "metadata": {
        "id": "AjQWUY2tDU5k"
      },
      "execution_count": 53,
      "outputs": []
    },
    {
      "cell_type": "code",
      "source": [
        "def train(X, Y, num_epochs, learning_rate, print_interval):\n",
        "    for epoch in range(num_epochs):\n",
        "        # Forward Propagation\n",
        "        z, yhat = forward_propagation(X)\n",
        "        loss = np.mean((Y - yhat) ** 2)\n",
        "\n",
        "        # Backpropagation\n",
        "        gradients = backpropagation(X, Y, z, yhat)\n",
        "        update_parameters(gradients, learning_rate)\n",
        "\n",
        "        # Print loss every ... epochs\n",
        "        if epoch % print_interval == 0:\n",
        "            print(f\"Epoch {epoch}: Loss = {loss:.4f}\")"
      ],
      "metadata": {
        "id": "UVS4KdLjDn_t"
      },
      "execution_count": 54,
      "outputs": []
    },
    {
      "cell_type": "code",
      "source": [
        "input_size = 2\n",
        "hidden_size = 100\n",
        "output_size = 1\n",
        "scale = 0.01\n",
        "\n",
        "weights_input_to_hidden = scale * np.random.randn(input_size, hidden_size)\n",
        "weights_hidden_to_output = scale * np.random.randn(hidden_size, output_size)\n",
        "\n",
        "biases_hidden = scale * np.random.randn(1, hidden_size)\n",
        "biases_output = scale * np.random.randn(1, output_size)\n"
      ],
      "metadata": {
        "id": "nWiXz-rfEN8B"
      },
      "execution_count": 55,
      "outputs": []
    },
    {
      "cell_type": "code",
      "source": [
        "total_epochs = 25001\n",
        "learning_rate = 1e-4\n",
        "print_frequency = 1e3\n",
        "\n",
        "data_for_training = np.column_stack((train_X1, train_X2))\n",
        "train(data_for_training, train_Y, total_epochs, learning_rate, print_frequency)\n"
      ],
      "metadata": {
        "colab": {
          "base_uri": "https://localhost:8080/"
        },
        "id": "1LgvYkS2EruD",
        "outputId": "96c3bad1-bfbc-4d08-d80e-d7d531df931d"
      },
      "execution_count": 56,
      "outputs": [
        {
          "output_type": "stream",
          "name": "stdout",
          "text": [
            "Epoch 0: Loss = 8803.1854\n",
            "Epoch 1000: Loss = 76.5563\n",
            "Epoch 2000: Loss = 32.6027\n",
            "Epoch 3000: Loss = 14.6000\n",
            "Epoch 4000: Loss = 10.7643\n",
            "Epoch 5000: Loss = 8.6281\n",
            "Epoch 6000: Loss = 7.2857\n",
            "Epoch 7000: Loss = 5.9853\n",
            "Epoch 8000: Loss = 5.4563\n",
            "Epoch 9000: Loss = 5.1813\n",
            "Epoch 10000: Loss = 4.3206\n",
            "Epoch 11000: Loss = 4.5040\n",
            "Epoch 12000: Loss = 3.6930\n",
            "Epoch 13000: Loss = 3.7715\n",
            "Epoch 14000: Loss = 3.8955\n",
            "Epoch 15000: Loss = 3.6065\n",
            "Epoch 16000: Loss = 3.4699\n",
            "Epoch 17000: Loss = 3.3479\n",
            "Epoch 18000: Loss = 3.0199\n",
            "Epoch 19000: Loss = 3.0016\n",
            "Epoch 20000: Loss = 2.9637\n",
            "Epoch 21000: Loss = 2.9102\n",
            "Epoch 22000: Loss = 2.7839\n",
            "Epoch 23000: Loss = 2.6733\n",
            "Epoch 24000: Loss = 2.5216\n",
            "Epoch 25000: Loss = 2.4551\n"
          ]
        }
      ]
    },
    {
      "cell_type": "code",
      "execution_count": 57,
      "metadata": {
        "colab": {
          "base_uri": "https://localhost:8080/"
        },
        "id": "JFkD9wo5AcKF",
        "outputId": "dbd0bbf5-d9c0-482d-9017-9c55e0554493"
      },
      "outputs": [
        {
          "output_type": "stream",
          "name": "stdout",
          "text": [
            "5.972028098149477\n"
          ]
        }
      ],
      "source": [
        "test_data_combined = np.column_stack((test_X1, test_X2))\n",
        "_, predictions = forward_propagation(test_data_combined)\n",
        "test_loss = np.mean((test_Y - predictions) ** 2)\n",
        "print(test_loss)\n"
      ]
    },
    {
      "cell_type": "code",
      "source": [
        "import matplotlib.pyplot as plt\n",
        "\n",
        "plt.figure(figsize=(8, 4))\n",
        "\n",
        "plt.subplot(121)\n",
        "plt.scatter(test_data_combined[:, 0], test_Y, color='red')\n",
        "plt.scatter(test_data_combined[:, 0], predictions, color='blue')\n",
        "\n",
        "\n",
        "plt.subplot(122)\n",
        "plt.scatter(test_data_combined[:, 1], test_Y, color='red')\n",
        "plt.scatter(test_data_combined[:, 1], predictions, color='blue')\n",
        "\n",
        "\n",
        "plt.show()\n"
      ],
      "metadata": {
        "colab": {
          "base_uri": "https://localhost:8080/",
          "height": 368
        },
        "id": "Uf57RP6vFcNl",
        "outputId": "5c2a8bd0-651a-4164-9d7a-dc02a2de0f78"
      },
      "execution_count": 58,
      "outputs": [
        {
          "output_type": "display_data",
          "data": {
            "text/plain": [
              "<Figure size 800x400 with 2 Axes>"
            ],
            "image/png": "[encoded data removed]"
          },
          "metadata": {}
        }
      ]
    },
    {
      "cell_type": "code",
      "source": [],
      "metadata": {
        "id": "TbuqQWgwGZ9x"
      },
      "execution_count": 58,
      "outputs": []
    }
  ]
}